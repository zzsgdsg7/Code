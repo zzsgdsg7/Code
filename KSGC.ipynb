{
 "cells": [
  {
   "cell_type": "code",
   "execution_count": 1,
   "id": "2feddb95",
   "metadata": {},
   "outputs": [],
   "source": [
    "import networkx as nx\n",
    "import math\n",
    "import csv\n"
   ]
  },
  {
   "cell_type": "code",
   "execution_count": 2,
   "id": "843a4323",
   "metadata": {},
   "outputs": [],
   "source": [
    "def kshell(G):\n",
    "    graph = G.copy()\n",
    "    importance_dict={}\n",
    "    level=1\n",
    "    while len(graph.degree):\n",
    "        importance_dict[level]=[]\n",
    "        while True:\n",
    "            level_node_list=[]\n",
    "            for item in graph.degree:\n",
    "                if item[1]<=level:\n",
    "                    level_node_list.append(item[0])\n",
    "            graph.remove_nodes_from(level_node_list)\n",
    "            importance_dict[level].extend(level_node_list)\n",
    "            if not len(graph.degree):\n",
    "                return importance_dict\n",
    "            if min(graph.degree,key=lambda x:x[1])[1]>level:\n",
    "                break\n",
    "        level=min(graph.degree,key=lambda x:x[1])[1]\n",
    "    return importance_dict"
   ]
  },
  {
   "cell_type": "code",
   "execution_count": 3,
   "id": "18d59516",
   "metadata": {},
   "outputs": [],
   "source": [
    "def gDegree(G):\n",
    "    \"\"\"\n",
    "    将G.degree()的返回值变为字典\n",
    "    \"\"\"\n",
    "    node_degrees_dict = {}\n",
    "    for i in G.degree():\n",
    "        node_degrees_dict[i[0]]=i[1]\n",
    "    return node_degrees_dict.copy()"
   ]
  },
  {
   "cell_type": "code",
   "execution_count": 5,
   "id": "b0dd9809",
   "metadata": {},
   "outputs": [],
   "source": [
    "def get_neigbors(g, node, depth=1):\n",
    "    output = {}\n",
    "    layers = dict(nx.bfs_successors(g, source=node, depth_limit=depth))\n",
    "    nodes = [node]\n",
    "    for i in range(1,depth+1):\n",
    "        output[i] = []\n",
    "        for x in nodes:\n",
    "            output[i].extend(layers.get(x,[]))\n",
    "        nodes = output[i]\n",
    "    return output"
   ]
  },
  {
   "cell_type": "code",
   "execution_count": 6,
   "id": "b40af1b4",
   "metadata": {},
   "outputs": [],
   "source": [
    "def get_ksnode(ks):\n",
    "    ks_node = {}\n",
    "    for k,v in ks.items():\n",
    "        for i in v:\n",
    "            ks_node[i] = k\n",
    "    return ks_node"
   ]
  },
  {
   "cell_type": "code",
   "execution_count": 7,
   "id": "a3c30e66",
   "metadata": {},
   "outputs": [],
   "source": [
    "#加载地址\n",
    "node_path = r'C:\\Users\\zzsgdsg7\\Desktop\\zz_literature\\data\\data_classical\\dolphins\\dolphins_node.csv'\n",
    "edge_path = r'C:\\Users\\zzsgdsg7\\Desktop\\zz_literature\\data\\data_classical\\dolphins\\dolphins_edge.csv'"
   ]
  },
  {
   "cell_type": "code",
   "execution_count": 9,
   "id": "10c0b828",
   "metadata": {
    "scrolled": false
   },
   "outputs": [
    {
     "name": "stdout",
     "output_type": "stream",
     "text": [
      "Graph with 62 nodes and 159 edges\n"
     ]
    }
   ],
   "source": [
    "#打开node和edge文件\n",
    "with open (node_path) as nodecsv:\n",
    "    nodereader = csv.reader(nodecsv)\n",
    "    nodes = [n for n in nodereader][1:]\n",
    "node_names = [n[0] for n in nodes]\n",
    "\n",
    "with open(edge_path) as edgecsv: # Open the file\n",
    "    edgereader = csv.reader(edgecsv) # Read the csv\n",
    "    edges = [tuple(e) for e in edgereader][1:]\n",
    "\n",
    "G = nx.Graph()\n",
    "G.add_nodes_from(node_names)\n",
    "G.add_edges_from(edges)\n",
    "print(G)"
   ]
  },
  {
   "cell_type": "code",
   "execution_count": 10,
   "id": "971155bb",
   "metadata": {},
   "outputs": [
    {
     "name": "stdout",
     "output_type": "stream",
     "text": [
      "[('60', 2.149593931721368), ('58', 2.9430355293715387), ('22', 3.310914970542981), ('31', 3.310914970542981), ('35', 3.310914970542981), ('48', 3.310914970542981), ('4', 3.6787944117144233), ('11', 3.6787944117144233), ('12', 3.6787944117144233), ('49', 11.165313105737892), ('46', 11.187839666456288), ('56', 11.893255912981418), ('53', 13.187839666456288), ('39', 16.429347809042945), ('55', 17.45618204710813), ('32', 27.29060763172491), ('61', 31.54114065496101), ('26', 41.19675145377094), ('25', 43.34634538549231), ('3', 49.44066042959147), ('23', 60.188630088198295), ('2', 64.2747267662798), ('5', 79.95190521577248), ('44', 84.72412911901768), ('19', 100.0), ('27', 108.81844416311682), ('30', 130.0), ('52', 148.0), ('34', 152.18379049553613), ('7', 154.89031062715225), ('10', 162.9122485017218), ('28', 170.0), ('59', 175.93418637629134), ('41', 195.0), ('42', 207.49469820206616), ('47', 216.0), ('6', 263.3728084926561), ('0', 264.0), ('8', 271.1210236515496), ('54', 315.0), ('15', 328.2682765747655), ('24', 336.0), ('9', 338.9795627645587), ('16', 342.0), ('36', 343.5761375015733), ('21', 348.0), ('1', 385.31919520550974), ('43', 404.53655314953096), ('18', 406.0), ('13', 435.4052145880671), ('50', 448.0), ('38', 450.40585223042723), ('57', 487.76579649821474), ('17', 491.4131675184612), ('40', 496.0), ('20', 518.2420473030993), ('29', 528.4645364561314), ('51', 595.188690142857), ('33', 746.9634395388949), ('45', 860.055210027841), ('37', 944.0339067345393), ('14', 1009.9787928082645)]\n",
      "finish\n"
     ]
    }
   ],
   "source": [
    "ks = kshell(G.copy())\n",
    "ks_min = min(ks)\n",
    "ks_max = max(ks)\n",
    "k = gDegree(G)\n",
    "ks_node = get_ksnode(ks)\n",
    "m_d = 2.23504\n",
    "score = {}\n",
    "for i in G.nodes():\n",
    "    s = 0\n",
    "    neighbor = get_neigbors(G,i,int(0.5*m_d))\n",
    "    for d,nodes in neighbor.items():\n",
    "        for j in nodes:\n",
    "            cij =math.exp((ks_node[i] - ks_node[j])/(ks_max-ks_min))\n",
    "            s += cij*((k[i]*k[j])/d**2)\n",
    "    score[i] = s\n",
    "score\n",
    "paixu = sorted(score.items(),key = lambda x:x[1])\n",
    "print(paixu)\n",
    "print(\"finish\")"
   ]
  },
  {
   "cell_type": "code",
   "execution_count": null,
   "id": "dfe69886",
   "metadata": {},
   "outputs": [],
   "source": []
  }
 ],
 "metadata": {
  "kernelspec": {
   "display_name": "Python 3 (ipykernel)",
   "language": "python",
   "name": "python3"
  },
  "language_info": {
   "codemirror_mode": {
    "name": "ipython",
    "version": 3
   },
   "file_extension": ".py",
   "mimetype": "text/x-python",
   "name": "python",
   "nbconvert_exporter": "python",
   "pygments_lexer": "ipython3",
   "version": "3.9.7"
  }
 },
 "nbformat": 4,
 "nbformat_minor": 5
}
