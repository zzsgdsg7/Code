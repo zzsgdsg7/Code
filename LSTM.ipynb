{
 "cells": [
  {
   "cell_type": "markdown",
   "id": "49b9bd12",
   "metadata": {},
   "source": [
    "使用 Max Planck Institute for Biogeochemistry 的天气时间序列数据集。\n",
    "\n",
    "该数据集包含14个不同的特征，例如气温，大气压力和湿度。从2003年开始，每10分钟收集一次。为了提高效率，本文仅使用2009年至2016年之间收集的数据。"
   ]
  },
  {
   "cell_type": "code",
   "execution_count": 6,
   "id": "ad44411b",
   "metadata": {},
   "outputs": [],
   "source": [
    "import sys \n",
    "import numpy as np # linear algebra\n",
    "import pandas as pd # data processing, CSV file I/O (e.g. pd.read_csv), data manipulation as in SQL\n",
    "import matplotlib.pyplot as plt # this is used for the plot the graph \n",
    "import seaborn as sns # used for plot interactive graph.\n",
    "from sklearn.preprocessing import MinMaxScaler\n",
    "from sklearn.metrics import mean_squared_error,r2_score\n",
    "\n",
    "## keras\n",
    "from tensorflow_core.python.keras import Input, Model\n",
    "from tensorflow_core.python.keras.layers import Dropout, Dense, Attention, LSTM\n",
    "\n",
    "from numpy.matlib import repmat\n",
    "import pandas as pd\n",
    "import sklearn\n",
    "import math"
   ]
  },
  {
   "cell_type": "code",
   "execution_count": 7,
   "id": "cf50a7bd",
   "metadata": {},
   "outputs": [
    {
     "name": "stdout",
     "output_type": "stream",
     "text": [
      "   so2   no2  pm10  pm2.5    o3   co  temperature  humidity  pressure  wind  \\\n",
      "0  5.0  75.0  61.0   38.0   1.0  1.0         21.1      89.0    1013.0   1.2   \n",
      "1  5.0  64.0  60.0   41.0  25.0  0.8         20.4      92.0    1012.4   1.1   \n",
      "2  4.0  60.0  36.0   40.0  25.0  0.8         20.0      93.0    1011.3   1.1   \n",
      "3  4.0  39.0  35.0   33.0  41.0  0.7         19.8      93.0    1010.4   1.5   \n",
      "4  4.0  39.0  28.0   39.0  36.0  0.8         19.9      92.0    1010.0   1.5   \n",
      "\n",
      "   direction  \n",
      "0      346.5  \n",
      "1       18.0  \n",
      "2       65.9  \n",
      "3       78.4  \n",
      "4       73.5  \n"
     ]
    }
   ],
   "source": [
    "#数据预处理\n",
    "path = r'C:\\Users\\zzsgdsg7\\Desktop\\2021年B题\\附件1 监测点A空气质量预报基础数据2.xls'\n",
    "\n",
    "data = pd.read_excel(path)\n",
    "data.iloc[:,0] = pd.to_datetime(data.iloc[:,0])\n",
    "data.set_axis(['time', 'place', 'so2','no2','pm10', 'pm2.5', 'o3','co','temperature', 'humidity', 'pressure','wind','direction'], axis='columns',inplace=True)\n",
    "#print(data.head())\n",
    "\n",
    "#数据基本处理\n",
    "modeltime = data['time']\n",
    "data = data.drop(columns=['place','time'])\n",
    "data= data.replace('—', np.nan)\n",
    "data = data.astype('float')\n",
    "data[ data< 0 ] = np.nan\n",
    "print(data.head())\n",
    "data.insert(0,'time',modeltime)#重新插入时间列\n",
    "\n",
    "#KNN插值\n",
    "\n",
    "data_knn =data\n",
    "\n",
    "def knn_mean(ts, n):\n",
    "    out = np.copy(ts)\n",
    "    for i, val in enumerate(ts):\n",
    "        if np.isnan(val):#判断值是否是空\n",
    "            n_by_2 = np.ceil(n/2)\n",
    "            lower = np.max([0, int(i-n_by_2)])\n",
    "            upper = np.min([len(ts)+1, int(i+n_by_2)])\n",
    "            ts_near = np.concatenate([ts[lower:i], ts[i:upper]])\n",
    "            out[i] = np.nanmean(ts_near)\n",
    "    return out\n",
    "\n",
    "for indexs in data.columns:\n",
    "    if indexs =='time':\n",
    "        continue\n",
    "    data_knn[indexs] = knn_mean(data_knn[indexs].values,24)\n",
    "\n",
    "    \n",
    "data_knn=pd.DataFrame(data_knn).set_index('time')"
   ]
  },
  {
   "cell_type": "code",
   "execution_count": 8,
   "id": "33e848b4",
   "metadata": {},
   "outputs": [],
   "source": [
    "#将时间序列数据转化为监督问题数据\n",
    "def series_to_supervised(data, n_in=1, n_out=1, dropnan=True):\n",
    "    n_vars = 1 if type(data) is list else data.shape[1]\n",
    "    df = pd.DataFrame(data)\n",
    "    cols, names = list(), list()\n",
    "    # input sequence (t-n, ... t-1)\n",
    "    for i in range(n_in, 0, -1):\n",
    "        cols.append(df.shift(i))\n",
    "        names += [('var%d(t-%d)' % (j+1, i)) for j in range(n_vars)]\n",
    "    # forecast sequence (t, t+1, ... t+n)\n",
    "    for i in range(0, n_out):\n",
    "        cols.append(df.shift(-i))\n",
    "        if i == 0:\n",
    "            names += [('var%d(t)' % (j+1)) for j in range(n_vars)]\n",
    "        else:\n",
    "            names += [('var%d(t+%d)' % (j+1, i)) for j in range(n_vars)]\n",
    "    # put it all together\n",
    "    agg = pd.concat(cols, axis=1)\n",
    "    agg.columns = names\n",
    "    # drop rows with NaN values\n",
    "    if dropnan:\n",
    "        agg.dropna(inplace=True)\n",
    "    return agg"
   ]
  },
  {
   "cell_type": "code",
   "execution_count": 10,
   "id": "08269bbe",
   "metadata": {},
   "outputs": [
    {
     "name": "stdout",
     "output_type": "stream",
     "text": [
      "<class 'pandas.core.frame.DataFrame'>\n",
      "Int64Index: 19431 entries, 1 to 19431\n",
      "Data columns (total 22 columns):\n",
      " #   Column      Non-Null Count  Dtype  \n",
      "---  ------      --------------  -----  \n",
      " 0   var1(t-1)   19431 non-null  float32\n",
      " 1   var2(t-1)   19431 non-null  float32\n",
      " 2   var3(t-1)   19431 non-null  float32\n",
      " 3   var4(t-1)   19431 non-null  float32\n",
      " 4   var5(t-1)   19431 non-null  float32\n",
      " 5   var6(t-1)   19431 non-null  float32\n",
      " 6   var7(t-1)   19431 non-null  float32\n",
      " 7   var8(t-1)   19431 non-null  float32\n",
      " 8   var9(t-1)   19431 non-null  float32\n",
      " 9   var10(t-1)  19431 non-null  float32\n",
      " 10  var11(t-1)  19431 non-null  float32\n",
      " 11  var1(t)     19431 non-null  float32\n",
      " 12  var2(t)     19431 non-null  float32\n",
      " 13  var3(t)     19431 non-null  float32\n",
      " 14  var4(t)     19431 non-null  float32\n",
      " 15  var5(t)     19431 non-null  float32\n",
      " 16  var6(t)     19431 non-null  float32\n",
      " 17  var7(t)     19431 non-null  float32\n",
      " 18  var8(t)     19431 non-null  float32\n",
      " 19  var9(t)     19431 non-null  float32\n",
      " 20  var10(t)    19431 non-null  float32\n",
      " 21  var11(t)    19431 non-null  float32\n",
      "dtypes: float32(22)\n",
      "memory usage: 1.8 MB\n"
     ]
    }
   ],
   "source": [
    "## * Note: 归一化数据范围为0-1.\n",
    "values =data_knn.values\n",
    "values = values.astype('float32')\n",
    "scaler = MinMaxScaler(feature_range=(0,1))\n",
    "scaled = scaler.fit_transform(values)\n",
    "# 数据转为监督学习数据，time-step=1\n",
    "reframed = series_to_supervised(scaled, 1, 1)\n",
    "reframed.info()\n",
    "# 去掉不想预测的列\n",
    "reframed.drop(reframed.columns[[12,13,14,15,16,17,18,19,20,21]], axis=1, inplace=True)"
   ]
  },
  {
   "cell_type": "code",
   "execution_count": null,
   "id": "3e0295df",
   "metadata": {},
   "outputs": [],
   "source": []
  }
 ],
 "metadata": {
  "kernelspec": {
   "display_name": "Python 3",
   "language": "python",
   "name": "python3"
  },
  "language_info": {
   "codemirror_mode": {
    "name": "ipython",
    "version": 3
   },
   "file_extension": ".py",
   "mimetype": "text/x-python",
   "name": "python",
   "nbconvert_exporter": "python",
   "pygments_lexer": "ipython3",
   "version": "3.6.12"
  }
 },
 "nbformat": 4,
 "nbformat_minor": 5
}
